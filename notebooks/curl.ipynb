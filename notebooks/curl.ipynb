{
 "cells": [
  {
   "cell_type": "code",
   "execution_count": null,
   "id": "b89b40f6-825a-4678-832c-b25848ef0d1f",
   "metadata": {
    "tags": []
   },
   "outputs": [],
   "source": [
    "import requests\n",
    "from requests.auth import HTTPBasicAuth\n",
    "\n",
    "\n",
    "url = \"http://elasticsearch:9200\"\n",
    "username = \"elastic\"\n",
    "password = \"changeme\"\n",
    "index = \"logs-*\"\n",
    "query = {\n",
    "    \"query\": {\n",
    "        \"match_all\": {}\n",
    "    }\n",
    "}\n",
    "\n",
    "response = requests.get(f\"{url}/{index}/_search\", json=query, auth=HTTPBasicAuth(username, password))\n",
    "\n",
    "data = response.json()\n",
    "\n",
    "print(f\"Number of hits: {data['hits']['total']['value']}\")"
   ]
  },
  {
   "cell_type": "code",
   "execution_count": null,
   "id": "7b6a7ac5-0b05-4caa-acd9-44625f52a5a0",
   "metadata": {
    "tags": []
   },
   "outputs": [],
   "source": [
    "data"
   ]
  }
 ],
 "metadata": {
  "kernelspec": {
   "display_name": "Python 3 (ipykernel)",
   "language": "python",
   "name": "python3"
  },
  "language_info": {
   "codemirror_mode": {
    "name": "ipython",
    "version": 3
   },
   "file_extension": ".py",
   "mimetype": "text/x-python",
   "name": "python",
   "nbconvert_exporter": "python",
   "pygments_lexer": "ipython3",
   "version": "3.10.10"
  }
 },
 "nbformat": 4,
 "nbformat_minor": 5
}
