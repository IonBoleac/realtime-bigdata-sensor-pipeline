{
 "cells": [
  {
   "cell_type": "code",
   "execution_count": null,
   "id": "d297ae3a-1a92-4397-9c3a-530a20291cb5",
   "metadata": {
    "tags": []
   },
   "outputs": [],
   "source": [
    "!pip install -r requirements.txt"
   ]
  },
  {
   "cell_type": "code",
   "execution_count": null,
   "id": "2120338d-c1de-4610-bff8-c6ad188e4c5e",
   "metadata": {
    "tags": []
   },
   "outputs": [],
   "source": [
    "from elasticsearch import Elasticsearch\n",
    "\n",
    "es = Elasticsearch(\n",
    "    ['hhtp://elasticsearch:9200'],\n",
    "    basic_auth=('elastic', 'changeme'),\n",
    ")\n",
    "\n",
    "results = es.search(index=\"logs-*\", query={\"match_all\": {}}, size=100)\n"
   ]
  },
  {
   "cell_type": "code",
   "execution_count": null,
   "id": "527bc291-b24f-47ec-b28a-3893b2239b25",
   "metadata": {
    "tags": []
   },
   "outputs": [],
   "source": [
    "\n",
    "for hit in results[\"hits\"][\"hits\"]:\n",
    "    print(hit[\"_source\"])"
   ]
  },
  {
   "cell_type": "code",
   "execution_count": null,
   "id": "637730e3-8692-4709-b075-b0ef5ffbc849",
   "metadata": {},
   "outputs": [],
   "source": []
  },
  {
   "cell_type": "code",
   "execution_count": null,
   "id": "4f17ea1c-f315-43b0-a094-f47b65f0810a",
   "metadata": {
    "tags": []
   },
   "outputs": [],
   "source": [
    "import pandas as pd\n",
    "\n",
    "data = []\n",
    "for hit in results['hits']['hits']:\n",
    "    data.append(hit['_source'])\n",
    "df = pd.DataFrame(data)\n",
    "df"
   ]
  },
  {
   "cell_type": "code",
   "execution_count": null,
   "id": "16197e7b-68bb-4dec-ad71-7b83be087a83",
   "metadata": {
    "tags": []
   },
   "outputs": [],
   "source": [
    "df = df[[\"temperature\", \"sensor_id\", \"@timestamp\"]]\n",
    "df"
   ]
  },
  {
   "cell_type": "code",
   "execution_count": null,
   "id": "c627962c-0845-44f5-ac46-b2c4e80c753e",
   "metadata": {
    "tags": []
   },
   "outputs": [],
   "source": [
    "df = df.iloc[:, [1, 0, 2]]\n",
    "df"
   ]
  },
  {
   "cell_type": "code",
   "execution_count": null,
   "id": "ed7a4252-c01a-4dba-8f4d-1564e3c2f36d",
   "metadata": {
    "tags": []
   },
   "outputs": [],
   "source": [
    "import matplotlib.pyplot as plt\n",
    "fig, ax = plt.subplots()\n",
    "\n",
    "for sensor_id in df[\"sensor_id\"].unique():\n",
    "    df[df[\"sensor_id\"] == sensor_id]['temperature'].astype('int').plot.line(figsize=(15,7), label=sensor_id)\n",
    "    \n",
    "\n",
    "    ax.set_xlabel(\"timestamp\")\n",
    "ax.set_ylabel(\"Temperature\")\n",
    "ax.legend()\n",
    "plt.show()"
   ]
  },
  {
   "cell_type": "code",
   "execution_count": null,
   "id": "45cf94b7-9920-4e03-bc10-0e276a2b58f7",
   "metadata": {},
   "outputs": [],
   "source": []
  },
  {
   "cell_type": "code",
   "execution_count": null,
   "id": "c3ffa812-6866-4393-a261-25f9d13748d3",
   "metadata": {},
   "outputs": [],
   "source": []
  }
 ],
 "metadata": {
  "kernelspec": {
   "display_name": "Python 3 (ipykernel)",
   "language": "python",
   "name": "python3"
  },
  "language_info": {
   "codemirror_mode": {
    "name": "ipython",
    "version": 3
   },
   "file_extension": ".py",
   "mimetype": "text/x-python",
   "name": "python",
   "nbconvert_exporter": "python",
   "pygments_lexer": "ipython3",
   "version": "3.10.10"
  }
 },
 "nbformat": 4,
 "nbformat_minor": 5
}
